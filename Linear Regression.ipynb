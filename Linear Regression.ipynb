{
 "cells": [
  {
   "cell_type": "code",
   "execution_count": null,
   "id": "5de42cfe",
   "metadata": {},
   "outputs": [],
   "source": [
    "import pandas as pd\n",
    "import matplotlib.pyplot as plt\n",
    "\n",
    "df=pd.read_csv('/home/ise/Downloads/Food-Truck.csv')\n",
    "df\n",
    "df.plot(x=\"Hours\",y=\"Scores\",style=\"o\")\n",
    "plt.show()\n",
    "\n",
    "x_mean=df[\"Hours\"].mean()\n",
    "y_mean=df[\"Scores\"].mean()\n",
    "print(x_mean,y_mean)\n",
    "\n",
    "df[\"x\"]=df[\"Hours\"]-x_mean()\n",
    "df[\"y\"]=df[\"Scores\"]-y_mean()\n",
    "df[\"x,y\"]=df[\"Hours\"]"
   ]
  }
 ],
 "metadata": {
  "kernelspec": {
   "display_name": "Python 3 (ipykernel)",
   "language": "python",
   "name": "python3"
  },
  "language_info": {
   "codemirror_mode": {
    "name": "ipython",
    "version": 3
   },
   "file_extension": ".py",
   "mimetype": "text/x-python",
   "name": "python",
   "nbconvert_exporter": "python",
   "pygments_lexer": "ipython3",
   "version": "3.9.13"
  }
 },
 "nbformat": 4,
 "nbformat_minor": 5
}
